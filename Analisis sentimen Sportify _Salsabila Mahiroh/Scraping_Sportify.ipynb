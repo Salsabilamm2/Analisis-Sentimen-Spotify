{
  "nbformat": 4,
  "nbformat_minor": 0,
  "metadata": {
    "colab": {
      "provenance": []
    },
    "kernelspec": {
      "name": "python3",
      "display_name": "Python 3"
    },
    "language_info": {
      "name": "python"
    }
  },
  "cells": [
    {
      "cell_type": "code",
      "execution_count": 1,
      "metadata": {
        "colab": {
          "base_uri": "https://localhost:8080/"
        },
        "id": "V0vHna8A_FX_",
        "outputId": "e326e375-8a95-4c79-cf7f-2a3ec6584f63"
      },
      "outputs": [
        {
          "output_type": "stream",
          "name": "stdout",
          "text": [
            "Collecting google-play-scraper\n",
            "  Downloading google_play_scraper-1.2.7-py3-none-any.whl.metadata (50 kB)\n",
            "\u001b[?25l     \u001b[90m━━━━━━━━━━━━━━━━━━━━━━━━━━━━━━━━━━━━━━━━\u001b[0m \u001b[32m0.0/50.2 kB\u001b[0m \u001b[31m?\u001b[0m eta \u001b[36m-:--:--\u001b[0m\r\u001b[2K     \u001b[90m━━━━━━━━━━━━━━━━━━━━━━━━━━━━━━━━━━━━━━━━\u001b[0m \u001b[32m50.2/50.2 kB\u001b[0m \u001b[31m1.9 MB/s\u001b[0m eta \u001b[36m0:00:00\u001b[0m\n",
            "\u001b[?25hDownloading google_play_scraper-1.2.7-py3-none-any.whl (28 kB)\n",
            "Installing collected packages: google-play-scraper\n",
            "Successfully installed google-play-scraper-1.2.7\n"
          ]
        }
      ],
      "source": [
        "!pip install google-play-scraper"
      ]
    },
    {
      "cell_type": "code",
      "source": [
        "from google_play_scraper import reviews_all, Sort\n",
        "\n",
        "# Mengambil ulasan dari aplikasi Spotify di google play store\n",
        "scrapreview = reviews_all(\n",
        "    'com.spotify.music',\n",
        "    lang='id',           # Bahasa Indonesia\n",
        "    country='id',        # Negara Indonesia\n",
        "    sort=Sort.NEWEST     # Bisa Sort.MOST_RELEVANT atau Sort.NEWEST\n",
        ")\n",
        "\n",
        "# Ambil hanya 30.000 ulasan\n",
        "sample = scrapreview[:30000]\n",
        "\n"
      ],
      "metadata": {
        "id": "nYBWlSe2AKt7"
      },
      "execution_count": 2,
      "outputs": []
    },
    {
      "cell_type": "code",
      "source": [
        "# Ubah ke dataframe\n",
        "import pandas as pd\n",
        "df_ulasan = pd.DataFrame(sample)\n",
        "# simpan ke CSV\n",
        "df_ulasan.to_csv('Ulasan_Spotify_30.csv', index=False)"
      ],
      "metadata": {
        "id": "xdkvwsieAORj"
      },
      "execution_count": 3,
      "outputs": []
    }
  ]
}